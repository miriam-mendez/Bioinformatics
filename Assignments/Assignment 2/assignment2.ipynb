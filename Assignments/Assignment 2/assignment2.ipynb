{
 "cells": [
  {
   "cell_type": "code",
   "execution_count": 5,
   "metadata": {},
   "outputs": [],
   "source": [
    "import pandas as pd\n",
    "import heapq"
   ]
  },
  {
   "cell_type": "markdown",
   "metadata": {},
   "source": [
    "# Metabolic Network"
   ]
  },
  {
   "cell_type": "markdown",
   "metadata": {},
   "source": [
    "## Description of the approach taken to solve the problems\n",
    "\n",
    "Exercise 1 and exercise 2 have been solved in a very similar way. Moreover, both used the same input strucutre to build the metabolic network (CSV file).\n",
    "\n",
    "The aim of exercise 1 was identify the **non essential** enzymes, while exercise2 focuses on finding the **essential** enzymes. Both tasks run the BFS algorithm to determine the shortest path, utilizing the given input metabolites and biological endpoint. In exercise 3, the objective shifts to identify enzymes that are suitable to remove in order to kill the cancerous cells. For that task I implement the Dijkstra algorithmn in order to find the healthiest path.\n",
    "\n",
    "For Exercise 1, identifying redundant enzymes involves extracting enzymes that the BFS has not traversed, i.e., those not visited during the algorithm's execution. To achieve this, we subtract the enzymes visited by the BFS from the enzymes in the given metabolic network.\n",
    "\n",
    "In Exercise 2, the goal is to display the enzymes obtained during the BFS execution.\n",
    "\n",
    "In exercise 3, identifying enzymes suitable for removal to eliminate cancerous cells, involved find a path where the enzymes are the most healty one. To achieve this, the Dijkstra algorithm was employed, utilizing health ratios as weights to find the healthiest and essential path. Enzymes not traversed by Dijkstra were deemed redundant and targeted for removal if were affected for cancerous cells. Those ones are the enzymes  output in the exercise."
   ]
  },
  {
   "cell_type": "code",
   "execution_count": 3,
   "metadata": {},
   "outputs": [],
   "source": [
    "def build_graph(filename):\n",
    "    df = pd.read_csv(filename)\n",
    "    graph = {}\n",
    "    for index, row in df.iterrows():\n",
    "        from_node = row['From']\n",
    "        to_node = row['To']\n",
    "        enzyme = row['Enzyme']\n",
    "\n",
    "        if from_node not in graph:\n",
    "            graph[from_node] = []\n",
    "\n",
    "        graph[from_node].append((enzyme, to_node))\n",
    "\n",
    "    return graph"
   ]
  },
  {
   "cell_type": "code",
   "execution_count": 41,
   "metadata": {},
   "outputs": [],
   "source": [
    "def bfs(graph, start_node, end_node):\n",
    "    queue = []\n",
    "    queue.append([(start_node,\"\")])\n",
    "    while queue:\n",
    "        path = queue.pop(0)\n",
    "        node = path[-1]\n",
    "        if node[0] == end_node:\n",
    "            return path\n",
    "        \n",
    "        for adjacent in graph.get(node[0], []):\n",
    "            new_path = list(path)\n",
    "            new_path.append((adjacent[1],adjacent[0]))\n",
    "            queue.append(new_path)"
   ]
  },
  {
   "cell_type": "markdown",
   "metadata": {},
   "source": [
    "### Exercise 1: \n",
    "**Using the simplified representation of glycolysis in Figure 1, write code that identifies all of the NON-ESSENTIAL enzymes in glycolysis. Note that this code should be able to generalise to other types of pathways with a single biological endpoint (e.g. glucose -> pyruvate).**"
   ]
  },
  {
   "cell_type": "code",
   "execution_count": 40,
   "metadata": {},
   "outputs": [
    {
     "name": "stdout",
     "output_type": "stream",
     "text": [
      "{'Triosephosphate isomeras'}\n"
     ]
    }
   ],
   "source": [
    "###### INPUT DATA #######\n",
    "filename = \"glyc.csv\"\n",
    "start_node = \"Glucose\"\n",
    "end_node = \"Pyruvate\"\n",
    "\n",
    "\n",
    "###### Exercise 1 #######\n",
    "graph1 = build_graph(filename)\n",
    "enzymes_graph = {enzyme[0] for enzymes in graph1.values() for enzyme in enzymes}\n",
    "\n",
    "path = bfs(graph1, start_node, end_node)\n",
    "enzymes_path ={enzyme[1] for enzyme in path}\n",
    "\n",
    "unvisited = enzymes_graph - enzymes_path ## Redundant enzymes\n",
    "\n",
    "print(unvisited)"
   ]
  },
  {
   "cell_type": "markdown",
   "metadata": {},
   "source": [
    "### Exercise 2:\n",
    "**The network in Figure 2 is given here as an edge-list. Modify your code from task 1 to identify all of the networks ESSENTIAL enzymes (enzymes that can NOT be removed from the network in order for the network to be able to produce ALL of its biological endpoints).**"
   ]
  },
  {
   "cell_type": "code",
   "execution_count": 50,
   "metadata": {},
   "outputs": [
    {
     "name": "stdout",
     "output_type": "stream",
     "text": [
      "{'Enzyme1', 'Enzyme2', 'Enzyme4', 'PseudoEnzymes', 'Enzyme8', 'Enzyme6', 'Enzyme3'}\n"
     ]
    }
   ],
   "source": [
    "###### INPUT DATA #######\n",
    "filename = \"ccm.csv\"\n",
    "start_node = \"Glucose [c]\"\n",
    "end_node = \"Glycine\"\n",
    "\n",
    "\n",
    "###### Exercise 2 #######\n",
    "graph2 = build_graph(filename)          \n",
    "            \n",
    "path = bfs(graph2, start_node, end_node)\n",
    "enzymes_path ={enzyme[1] for enzyme in path[1:]}\n",
    "\n",
    "print(enzymes_path)"
   ]
  },
  {
   "cell_type": "markdown",
   "metadata": {},
   "source": [
    "### Exercise 3:\n",
    "\n",
    "**Identify enzymes that are suitable to target in order to kill the cancer-cells, but not the patients healthy cells? You can assume that the drug perfectly inhibits the enzyme, stopping all activity. Complete absence of transcripts (RNA molecules) indicates that the enzyme is not expressed at all.**"
   ]
  },
  {
   "cell_type": "code",
   "execution_count": 66,
   "metadata": {},
   "outputs": [
    {
     "name": "stdout",
     "output_type": "stream",
     "text": [
      "['Enzyme19', 'Enzyme23', 'Enzyme33', 'Enzyme21', 'Enzyme11', 'Enzyme32', 'Enzyme10', 'Enzyme20', 'Transporter2', 'Enzyme4', 'Enzyme27', 'Enzyme28', 'TKT', 'Enzyme12', 'Enzyme29', 'Enzyme16', 'Enzyme3', 'Enzyme7', 'Enzyme31', 'Enzyme25', 'Enzyme34', 'Enzyme17', 'Enzyme9', 'Enzyme26', 'Transporter1', 'Enzyme22', 'Enzyme24', 'Enzyme18', 'Enzyme5', 'Enzyme35']\n"
     ]
    }
   ],
   "source": [
    "###### INPUT DATA #######\n",
    "weights_file = \"RNAcounts.csv\"\n",
    "graph2_file = \"ccm.csv\"\n",
    "\n",
    "start_node = \"Glucose [c]\"\n",
    "end_node = \"Glycine\"\n",
    "\n",
    "###### Exercise 3 #######\n",
    "#### Building the weighted graph\n",
    "def build_weights(filename):\n",
    "    df = pd.read_csv(filename)\n",
    "    weights = {}\n",
    "    for index, row in df.iterrows():\n",
    "        enzyme = row[\"Enzyme\"]\n",
    "        cancer = row[\"Cancer RNA count\"]\n",
    "        health = row[\"Healthy RNA count\"]\n",
    "        weights[enzyme] = (health if cancer == 0 else health/cancer, health, cancer)\n",
    "    return weights\n",
    "\n",
    "def add_graph_weights(graph, weights):\n",
    "    for enzymes in graph.items():\n",
    "        for idx, enzyme in enumerate(enzymes[1]):\n",
    "            tmp = graph[enzymes[0]][idx][0]\n",
    "            w = weights[tmp]\n",
    "            graph[enzymes[0]][idx] =  (w,) + graph[enzymes[0]][idx]      \n",
    "    return graph\n",
    "\n",
    "            \n",
    "#### Dijkstra algorithmn\n",
    "def dijkstra(graph, start_node, end_node):\n",
    "    priority_queue = [(0, start_node, [])]\n",
    "\n",
    "    while priority_queue:\n",
    "        (cost, current_node, path) = heapq.heappop(priority_queue)\n",
    "\n",
    "        if current_node == end_node:\n",
    "            return path\n",
    "\n",
    "        for adjacent in graph.get(current_node, []):\n",
    "            neighbor = adjacent[2]\n",
    "            edge_weight = adjacent[0][0]\n",
    "            heapq.heappush(priority_queue, (cost + edge_weight, neighbor, path + [(edge_weight, adjacent[1], neighbor)]))\n",
    "\n",
    "\n",
    "#### Solving the problem\n",
    "weights = build_weights(weights_file)\n",
    "graph2 = build_graph(graph2_file)\n",
    "graph2_w = add_graph_weights(graph2, weights)\n",
    "\n",
    "enzymes_graph = {enzyme[1] for enzymes in graph2_w.values() for enzyme in enzymes}\n",
    "\n",
    "path = dijkstra(graph2_w,start_node,end_node)\n",
    "enzymes_path ={enzyme[1] for enzyme in path}\n",
    "\n",
    "unvisited = enzymes_graph - enzymes_path ## Redundant enzymes\n",
    "benign_enzym = [enzym for enzym in unvisited if weights[enzym][2] != 0]\n",
    "\n",
    "print(benign_enzym)"
   ]
  }
 ],
 "metadata": {
  "kernelspec": {
   "display_name": "Python 3",
   "language": "python",
   "name": "python3"
  },
  "language_info": {
   "codemirror_mode": {
    "name": "ipython",
    "version": 3
   },
   "file_extension": ".py",
   "mimetype": "text/x-python",
   "name": "python",
   "nbconvert_exporter": "python",
   "pygments_lexer": "ipython3",
   "version": "3.11.0"
  }
 },
 "nbformat": 4,
 "nbformat_minor": 2
}
